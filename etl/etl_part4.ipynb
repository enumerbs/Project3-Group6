{
 "cells": [
  {
   "cell_type": "markdown",
   "id": "7408ee10",
   "metadata": {},
   "source": [
    "# World Bank - Population Growth dataset\n",
    "\n",
    "## ETL - Part 4 - Data/Schema Validation & Cleansing\n",
    "\n",
    "Load the intermediate dataset (metadata dataset from Part 2) and perform additional data validation / cleansing.\n",
    "Write out the cleansed dataset to a new file."
   ]
  },
  {
   "cell_type": "code",
   "execution_count": 26,
   "id": "afe03a8f-e059-4144-9407-c2e797d19aff",
   "metadata": {},
   "outputs": [],
   "source": [
    "import pandas as pd"
   ]
  },
  {
   "cell_type": "code",
   "execution_count": 27,
   "id": "f1582cbf-af28-4f69-89fe-f27bcde58161",
   "metadata": {},
   "outputs": [
    {
     "data": {
      "text/html": [
       "<div>\n",
       "<style scoped>\n",
       "    .dataframe tbody tr th:only-of-type {\n",
       "        vertical-align: middle;\n",
       "    }\n",
       "\n",
       "    .dataframe tbody tr th {\n",
       "        vertical-align: top;\n",
       "    }\n",
       "\n",
       "    .dataframe thead th {\n",
       "        text-align: right;\n",
       "    }\n",
       "</style>\n",
       "<table border=\"1\" class=\"dataframe\">\n",
       "  <thead>\n",
       "    <tr style=\"text-align: right;\">\n",
       "      <th></th>\n",
       "      <th>Country Code</th>\n",
       "      <th>Region</th>\n",
       "      <th>IncomeGroup</th>\n",
       "      <th>Country Name</th>\n",
       "    </tr>\n",
       "  </thead>\n",
       "  <tbody>\n",
       "    <tr>\n",
       "      <th>0</th>\n",
       "      <td>ABW</td>\n",
       "      <td>Latin America &amp; Caribbean</td>\n",
       "      <td>High income</td>\n",
       "      <td>Aruba</td>\n",
       "    </tr>\n",
       "    <tr>\n",
       "      <th>1</th>\n",
       "      <td>AFG</td>\n",
       "      <td>South Asia</td>\n",
       "      <td>Low income</td>\n",
       "      <td>Afghanistan</td>\n",
       "    </tr>\n",
       "    <tr>\n",
       "      <th>2</th>\n",
       "      <td>AGO</td>\n",
       "      <td>Sub-Saharan Africa</td>\n",
       "      <td>Lower middle income</td>\n",
       "      <td>Angola</td>\n",
       "    </tr>\n",
       "    <tr>\n",
       "      <th>3</th>\n",
       "      <td>ALB</td>\n",
       "      <td>Europe &amp; Central Asia</td>\n",
       "      <td>Upper middle income</td>\n",
       "      <td>Albania</td>\n",
       "    </tr>\n",
       "    <tr>\n",
       "      <th>4</th>\n",
       "      <td>AND</td>\n",
       "      <td>Europe &amp; Central Asia</td>\n",
       "      <td>High income</td>\n",
       "      <td>Andorra</td>\n",
       "    </tr>\n",
       "  </tbody>\n",
       "</table>\n",
       "</div>"
      ],
      "text/plain": [
       "  Country Code                     Region          IncomeGroup Country Name\n",
       "0          ABW  Latin America & Caribbean          High income        Aruba\n",
       "1          AFG                 South Asia           Low income  Afghanistan\n",
       "2          AGO         Sub-Saharan Africa  Lower middle income       Angola\n",
       "3          ALB      Europe & Central Asia  Upper middle income      Albania\n",
       "4          AND      Europe & Central Asia          High income      Andorra"
      ]
     },
     "execution_count": 27,
     "metadata": {},
     "output_type": "execute_result"
    }
   ],
   "source": [
    "# Load the CSV data\n",
    "uncleaned_df = pd.read_csv(\"data/ETL_Metadata_Country_POP_GROW.csv\")\n",
    "\n",
    "uncleaned_df.head()"
   ]
  },
  {
   "cell_type": "code",
   "execution_count": 28,
   "id": "7d4c5fee-7552-4240-aadc-22de26a5e43c",
   "metadata": {},
   "outputs": [
    {
     "name": "stdout",
     "output_type": "stream",
     "text": [
      "Number of rows: 215\n",
      "Number of columns: 4\n"
     ]
    }
   ],
   "source": [
    "# Count the rows and columns\n",
    "num_rows, num_columns = uncleaned_df.shape\n",
    "print(f\"Number of rows: {num_rows}\")\n",
    "print(f\"Number of columns: {num_columns}\")"
   ]
  },
  {
   "cell_type": "code",
   "execution_count": 29,
   "id": "11bece07-7d41-4e9f-aa67-b930bf7f2c22",
   "metadata": {},
   "outputs": [
    {
     "name": "stdout",
     "output_type": "stream",
     "text": [
      "Number of rows: 215\n",
      "Number of columns: 4\n"
     ]
    }
   ],
   "source": [
    "# Remove duplicates - none expected at this point in the ETL\n",
    "uncleaned_df2 = uncleaned_df.drop_duplicates()\n",
    "num_rows2, num_columns2 = uncleaned_df2.shape\n",
    "print(f\"Number of rows: {num_rows2}\")\n",
    "print(f\"Number of columns: {num_columns2}\")"
   ]
  },
  {
   "cell_type": "code",
   "execution_count": 30,
   "id": "0b2de2d6-d82a-43c3-8b96-b1dcec2e801d",
   "metadata": {},
   "outputs": [
    {
     "data": {
      "text/html": [
       "<div>\n",
       "<style scoped>\n",
       "    .dataframe tbody tr th:only-of-type {\n",
       "        vertical-align: middle;\n",
       "    }\n",
       "\n",
       "    .dataframe tbody tr th {\n",
       "        vertical-align: top;\n",
       "    }\n",
       "\n",
       "    .dataframe thead th {\n",
       "        text-align: right;\n",
       "    }\n",
       "</style>\n",
       "<table border=\"1\" class=\"dataframe\">\n",
       "  <thead>\n",
       "    <tr style=\"text-align: right;\">\n",
       "      <th></th>\n",
       "      <th>Country Code</th>\n",
       "      <th>Region</th>\n",
       "      <th>IncomeGroup</th>\n",
       "    </tr>\n",
       "  </thead>\n",
       "  <tbody>\n",
       "    <tr>\n",
       "      <th>0</th>\n",
       "      <td>ABW</td>\n",
       "      <td>Latin America &amp; Caribbean</td>\n",
       "      <td>High income</td>\n",
       "    </tr>\n",
       "    <tr>\n",
       "      <th>1</th>\n",
       "      <td>AFG</td>\n",
       "      <td>South Asia</td>\n",
       "      <td>Low income</td>\n",
       "    </tr>\n",
       "    <tr>\n",
       "      <th>2</th>\n",
       "      <td>AGO</td>\n",
       "      <td>Sub-Saharan Africa</td>\n",
       "      <td>Lower middle income</td>\n",
       "    </tr>\n",
       "    <tr>\n",
       "      <th>3</th>\n",
       "      <td>ALB</td>\n",
       "      <td>Europe &amp; Central Asia</td>\n",
       "      <td>Upper middle income</td>\n",
       "    </tr>\n",
       "    <tr>\n",
       "      <th>4</th>\n",
       "      <td>AND</td>\n",
       "      <td>Europe &amp; Central Asia</td>\n",
       "      <td>High income</td>\n",
       "    </tr>\n",
       "    <tr>\n",
       "      <th>...</th>\n",
       "      <td>...</td>\n",
       "      <td>...</td>\n",
       "      <td>...</td>\n",
       "    </tr>\n",
       "    <tr>\n",
       "      <th>210</th>\n",
       "      <td>WSM</td>\n",
       "      <td>East Asia &amp; Pacific</td>\n",
       "      <td>Lower middle income</td>\n",
       "    </tr>\n",
       "    <tr>\n",
       "      <th>211</th>\n",
       "      <td>YEM</td>\n",
       "      <td>Middle East &amp; North Africa</td>\n",
       "      <td>Low income</td>\n",
       "    </tr>\n",
       "    <tr>\n",
       "      <th>212</th>\n",
       "      <td>ZAF</td>\n",
       "      <td>Sub-Saharan Africa</td>\n",
       "      <td>Upper middle income</td>\n",
       "    </tr>\n",
       "    <tr>\n",
       "      <th>213</th>\n",
       "      <td>ZMB</td>\n",
       "      <td>Sub-Saharan Africa</td>\n",
       "      <td>Lower middle income</td>\n",
       "    </tr>\n",
       "    <tr>\n",
       "      <th>214</th>\n",
       "      <td>ZWE</td>\n",
       "      <td>Sub-Saharan Africa</td>\n",
       "      <td>Lower middle income</td>\n",
       "    </tr>\n",
       "  </tbody>\n",
       "</table>\n",
       "<p>215 rows × 3 columns</p>\n",
       "</div>"
      ],
      "text/plain": [
       "    Country Code                      Region          IncomeGroup\n",
       "0            ABW   Latin America & Caribbean          High income\n",
       "1            AFG                  South Asia           Low income\n",
       "2            AGO          Sub-Saharan Africa  Lower middle income\n",
       "3            ALB       Europe & Central Asia  Upper middle income\n",
       "4            AND       Europe & Central Asia          High income\n",
       "..           ...                         ...                  ...\n",
       "210          WSM         East Asia & Pacific  Lower middle income\n",
       "211          YEM  Middle East & North Africa           Low income\n",
       "212          ZAF          Sub-Saharan Africa  Upper middle income\n",
       "213          ZMB          Sub-Saharan Africa  Lower middle income\n",
       "214          ZWE          Sub-Saharan Africa  Lower middle income\n",
       "\n",
       "[215 rows x 3 columns]"
      ]
     },
     "execution_count": 30,
     "metadata": {},
     "output_type": "execute_result"
    }
   ],
   "source": [
    "# Drop the 'Country Name' column as that's already present in the main population growth dataset\n",
    "uncleaned_df2 = uncleaned_df2.drop(columns=['Country Name'], errors='ignore')\n",
    "uncleaned_df2"
   ]
  },
  {
   "cell_type": "code",
   "execution_count": 31,
   "id": "714e9b71",
   "metadata": {},
   "outputs": [],
   "source": [
    "# Data cleansing\n",
    "#\n",
    "# Fill missing values (particuarly noted in the 'IncomeGroup' column, but check the whole dataset) with a clear \n",
    "# indication to end users that the data values for these cases were Not Available in the original source data.\n",
    "validated_df = uncleaned_df2.fillna('(Not Specified)')"
   ]
  },
  {
   "cell_type": "code",
   "execution_count": 32,
   "id": "af7666ed-5616-4d5b-a8c0-2d05e7dbe7b0",
   "metadata": {},
   "outputs": [
    {
     "name": "stdout",
     "output_type": "stream",
     "text": [
      "Total number of rows with at least one blank (NaN) value: 0\n",
      "Rows with Blank (NaN) Values:\n",
      "Empty DataFrame\n",
      "Columns: [Country Code, Region, IncomeGroup]\n",
      "Index: []\n"
     ]
    }
   ],
   "source": [
    "# Check that no NaN values now remain in the dataset\n",
    "\n",
    "# Find the rows and columns with NaN (blank) values\n",
    "blank_values = validated_df.isna()\n",
    "\n",
    "# Count the number of blank (NaN) values in each row\n",
    "blank_rows_count = validated_df.isna().any(axis=1).sum()\n",
    "\n",
    "# Display the total counts\n",
    "print(f\"Total number of rows with at least one blank (NaN) value: {blank_rows_count}\")\n",
    "\n",
    "# Find the rows with NaN (blank) values\n",
    "blank_rows = validated_df[validated_df.isna().any(axis=1)]  # Rows with NaN values\n",
    "\n",
    "# Display the rows with blank values\n",
    "print(\"Rows with Blank (NaN) Values:\")\n",
    "print(blank_rows)\n"
   ]
  },
  {
   "cell_type": "code",
   "execution_count": 33,
   "id": "7c381274-f06c-434c-9f72-614c54bb9cab",
   "metadata": {},
   "outputs": [],
   "source": [
    "# Make a file for validated_df dataset\n",
    "validated_df.to_csv('./data/Cleansed_Metadata_Country_POP_GROW.csv', encoding='utf8', index=False)"
   ]
  },
  {
   "cell_type": "code",
   "execution_count": null,
   "id": "cdb50b71-6c60-44c5-8116-15b36591bc22",
   "metadata": {},
   "outputs": [],
   "source": []
  }
 ],
 "metadata": {
  "kernelspec": {
   "display_name": "Python 3 (ipykernel)",
   "language": "python",
   "name": "python3"
  },
  "language_info": {
   "codemirror_mode": {
    "name": "ipython",
    "version": 3
   },
   "file_extension": ".py",
   "mimetype": "text/x-python",
   "name": "python",
   "nbconvert_exporter": "python",
   "pygments_lexer": "ipython3",
   "version": "3.10.14"
  }
 },
 "nbformat": 4,
 "nbformat_minor": 5
}
