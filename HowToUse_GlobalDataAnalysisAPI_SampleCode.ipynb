{
 "cells": [
  {
   "cell_type": "markdown",
   "id": "2ea5ccb7",
   "metadata": {},
   "source": [
    "# How to use the 'Global Data Analysis API'\n",
    "\n",
    "## Sample code: Get Population Growth Percentage data for a country of interest"
   ]
  },
  {
   "cell_type": "code",
   "execution_count": 1,
   "id": "4fb320fc",
   "metadata": {},
   "outputs": [],
   "source": [
    "# Dependencies and Setup\n",
    "import pandas as pd\n",
    "import requests"
   ]
  },
  {
   "cell_type": "code",
   "execution_count": 2,
   "id": "066a8a6d",
   "metadata": {},
   "outputs": [],
   "source": [
    "# Define URLs for the Global Data Analysis API\n",
    "server = \"http://127.0.0.1:5000\" # Sample locally-hosted Flask API\n",
    "\n",
    "country_codes_url = \"/api/v1.0/country-codes\"\n",
    "country_pop_growth_pct_endpoint_base = \"/api/v1.0/population-growth-percentage-for-country-all-years-available/\"\n",
    "\n",
    "country_codes_url = server + country_codes_url\n",
    "country_pop_growth_pct_url_base = server + country_pop_growth_pct_endpoint_base"
   ]
  },
  {
   "cell_type": "code",
   "execution_count": 3,
   "id": "5647214a",
   "metadata": {},
   "outputs": [
    {
     "data": {
      "text/html": [
       "<div>\n",
       "<style scoped>\n",
       "    .dataframe tbody tr th:only-of-type {\n",
       "        vertical-align: middle;\n",
       "    }\n",
       "\n",
       "    .dataframe tbody tr th {\n",
       "        vertical-align: top;\n",
       "    }\n",
       "\n",
       "    .dataframe thead th {\n",
       "        text-align: right;\n",
       "    }\n",
       "</style>\n",
       "<table border=\"1\" class=\"dataframe\">\n",
       "  <thead>\n",
       "    <tr style=\"text-align: right;\">\n",
       "      <th></th>\n",
       "      <th>CountryCode</th>\n",
       "      <th>CountryName</th>\n",
       "      <th>IncomeGroup</th>\n",
       "      <th>Region</th>\n",
       "      <th>2023</th>\n",
       "      <th>2022</th>\n",
       "      <th>2021</th>\n",
       "      <th>2020</th>\n",
       "      <th>2019</th>\n",
       "    </tr>\n",
       "  </thead>\n",
       "  <tbody>\n",
       "    <tr>\n",
       "      <th>0</th>\n",
       "      <td>AUS</td>\n",
       "      <td>Australia</td>\n",
       "      <td>High income</td>\n",
       "      <td>East Asia &amp; Pacific</td>\n",
       "      <td>2.3709</td>\n",
       "      <td>1.272699</td>\n",
       "      <td>0.140895</td>\n",
       "      <td>1.233428</td>\n",
       "      <td>1.477491</td>\n",
       "    </tr>\n",
       "  </tbody>\n",
       "</table>\n",
       "</div>"
      ],
      "text/plain": [
       "  CountryCode CountryName  IncomeGroup               Region    2023      2022  \\\n",
       "0         AUS   Australia  High income  East Asia & Pacific  2.3709  1.272699   \n",
       "\n",
       "       2021      2020      2019  \n",
       "0  0.140895  1.233428  1.477491  "
      ]
     },
     "execution_count": 3,
     "metadata": {},
     "output_type": "execute_result"
    }
   ],
   "source": [
    "# Fetch data from the Global Data Analysis API\n",
    "try:\n",
    "        # Step 1: retrieve the Country Codes list\n",
    "        # Call the API using the relevant URL and check we get 'OK' reponse\n",
    "        reference_data_response = requests.get(country_codes_url)\n",
    "        \n",
    "        if (reference_data_response.status_code == 200):\n",
    "            # Parse the JSON and retrieve Country Codes data\n",
    "            country_codes_json = reference_data_response.json()\n",
    "            \n",
    "            # Step 2: pick a country of interest and retrieve its code\n",
    "            country_code = country_codes_json[11] # AUS\n",
    "            \n",
    "            # Step 3: formulate the request URL to get the Population Growth Percentage (all years) for that country\n",
    "            country_pop_growth_pct_url = country_pop_growth_pct_url_base + country_code\n",
    "            \n",
    "            # Step 4: Retrieve the Population Growth Percentage (all years) data for that country\n",
    "            # Call the API using the formulated URL and check we get 'OK' reponse\n",
    "            country_pop_growth_pct_data_response = requests.get(country_pop_growth_pct_url)\n",
    "            \n",
    "            if (country_pop_growth_pct_data_response.status_code == 200):\n",
    "                # Parse the JSON and retrieve Population Growth Percentage data\n",
    "                country_pop_growth_pct_data = country_pop_growth_pct_data_response.json()\n",
    "                \n",
    "                # Create a dataframe based on the retrieved data\n",
    "                country_pop_growth_pct_df = pd.DataFrame(country_pop_growth_pct_data)\n",
    "            \n",
    "except requests.exceptions.HTTPError as e:\n",
    "        print(\"Error: \" + str(e))\n",
    "            \n",
    "# Use the dataframe for further analysis\n",
    "country_pop_growth_pct_df[[\"CountryCode\", \"CountryName\", \"IncomeGroup\", \"Region\", \"2023\", \"2022\", \"2021\", \"2020\", \"2019\"]]"
   ]
  }
 ],
 "metadata": {
  "kernelspec": {
   "display_name": "Python 3 (ipykernel)",
   "language": "python",
   "name": "python3"
  },
  "language_info": {
   "codemirror_mode": {
    "name": "ipython",
    "version": 3
   },
   "file_extension": ".py",
   "mimetype": "text/x-python",
   "name": "python",
   "nbconvert_exporter": "python",
   "pygments_lexer": "ipython3",
   "version": "3.10.14"
  }
 },
 "nbformat": 4,
 "nbformat_minor": 5
}
